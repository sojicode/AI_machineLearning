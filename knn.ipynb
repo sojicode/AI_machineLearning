{
 "cells": [
  {
   "cell_type": "code",
   "execution_count": 21,
   "metadata": {},
   "outputs": [],
   "source": [
    "import pandas as pd\n",
    "import numpy as np\n",
    "import matplotlib.pyplot as plt\n",
    "%matplotlib inline"
   ]
  },
  {
   "cell_type": "code",
   "execution_count": 22,
   "metadata": {
    "scrolled": false
   },
   "outputs": [
    {
     "data": {
      "text/html": [
       "<div>\n",
       "<style scoped>\n",
       "    .dataframe tbody tr th:only-of-type {\n",
       "        vertical-align: middle;\n",
       "    }\n",
       "\n",
       "    .dataframe tbody tr th {\n",
       "        vertical-align: top;\n",
       "    }\n",
       "\n",
       "    .dataframe thead th {\n",
       "        text-align: right;\n",
       "    }\n",
       "</style>\n",
       "<table border=\"1\" class=\"dataframe\">\n",
       "  <thead>\n",
       "    <tr style=\"text-align: right;\">\n",
       "      <th></th>\n",
       "      <th>TRUE BELIEVER</th>\n",
       "      <th>THE DA VINCI CODE</th>\n",
       "      <th>THE WORLD IS FLAT</th>\n",
       "      <th>MY LIFE SO FAR</th>\n",
       "      <th>THE TAKING</th>\n",
       "      <th>THE KITE RUNNER</th>\n",
       "      <th>RUNNY BABBIT</th>\n",
       "      <th>HARRY POTTER</th>\n",
       "    </tr>\n",
       "    <tr>\n",
       "      <th>Unnamed: 0</th>\n",
       "      <th></th>\n",
       "      <th></th>\n",
       "      <th></th>\n",
       "      <th></th>\n",
       "      <th></th>\n",
       "      <th></th>\n",
       "      <th></th>\n",
       "      <th></th>\n",
       "    </tr>\n",
       "  </thead>\n",
       "  <tbody>\n",
       "    <tr>\n",
       "      <th>U1</th>\n",
       "      <td>2.0</td>\n",
       "      <td>4.0</td>\n",
       "      <td>NaN</td>\n",
       "      <td>3.0</td>\n",
       "      <td>NaN</td>\n",
       "      <td>NaN</td>\n",
       "      <td>1.0</td>\n",
       "      <td>1.0</td>\n",
       "    </tr>\n",
       "    <tr>\n",
       "      <th>U2</th>\n",
       "      <td>NaN</td>\n",
       "      <td>5.0</td>\n",
       "      <td>NaN</td>\n",
       "      <td>NaN</td>\n",
       "      <td>3.0</td>\n",
       "      <td>2.0</td>\n",
       "      <td>1.0</td>\n",
       "      <td>NaN</td>\n",
       "    </tr>\n",
       "    <tr>\n",
       "      <th>U3</th>\n",
       "      <td>3.0</td>\n",
       "      <td>NaN</td>\n",
       "      <td>1.0</td>\n",
       "      <td>2.0</td>\n",
       "      <td>2.0</td>\n",
       "      <td>NaN</td>\n",
       "      <td>NaN</td>\n",
       "      <td>5.0</td>\n",
       "    </tr>\n",
       "    <tr>\n",
       "      <th>U4</th>\n",
       "      <td>NaN</td>\n",
       "      <td>3.0</td>\n",
       "      <td>NaN</td>\n",
       "      <td>NaN</td>\n",
       "      <td>4.0</td>\n",
       "      <td>1.0</td>\n",
       "      <td>NaN</td>\n",
       "      <td>3.0</td>\n",
       "    </tr>\n",
       "    <tr>\n",
       "      <th>U5</th>\n",
       "      <td>2.0</td>\n",
       "      <td>4.0</td>\n",
       "      <td>3.0</td>\n",
       "      <td>NaN</td>\n",
       "      <td>NaN</td>\n",
       "      <td>2.0</td>\n",
       "      <td>1.0</td>\n",
       "      <td>NaN</td>\n",
       "    </tr>\n",
       "  </tbody>\n",
       "</table>\n",
       "</div>"
      ],
      "text/plain": [
       "            TRUE BELIEVER  THE DA VINCI CODE  THE WORLD IS FLAT  \\\n",
       "Unnamed: 0                                                        \n",
       "U1                    2.0                4.0                NaN   \n",
       "U2                    NaN                5.0                NaN   \n",
       "U3                    3.0                NaN                1.0   \n",
       "U4                    NaN                3.0                NaN   \n",
       "U5                    2.0                4.0                3.0   \n",
       "\n",
       "            MY LIFE SO FAR  THE TAKING  THE KITE RUNNER  RUNNY BABBIT  \\\n",
       "Unnamed: 0                                                              \n",
       "U1                     3.0         NaN              NaN           1.0   \n",
       "U2                     NaN         3.0              2.0           1.0   \n",
       "U3                     2.0         2.0              NaN           NaN   \n",
       "U4                     NaN         4.0              1.0           NaN   \n",
       "U5                     NaN         NaN              2.0           1.0   \n",
       "\n",
       "            HARRY POTTER  \n",
       "Unnamed: 0                \n",
       "U1                   1.0  \n",
       "U2                   NaN  \n",
       "U3                   5.0  \n",
       "U4                   3.0  \n",
       "U5                   NaN  "
      ]
     },
     "execution_count": 22,
     "metadata": {},
     "output_type": "execute_result"
    }
   ],
   "source": [
    "data = pd.read_excel('knn-csc480-a4.xls', na_values=[' ']).set_index('Unnamed: 0')\n",
    "cols = data.columns.tolist()\n",
    "data.head()"
   ]
  },
  {
   "cell_type": "code",
   "execution_count": 61,
   "metadata": {},
   "outputs": [
    {
     "data": {
      "text/plain": [
       "array([[ 2.,  4., nan,  3., nan, nan,  1.,  1.],\n",
       "       [nan,  5., nan, nan,  3.,  2.,  1., nan],\n",
       "       [ 3., nan,  1.,  2.,  2., nan, nan,  5.],\n",
       "       [nan,  3., nan, nan,  4.,  1., nan,  3.],\n",
       "       [ 2.,  4.,  3., nan, nan,  2.,  1., nan],\n",
       "       [ 5.,  4., nan,  3.,  1., nan,  3.,  1.],\n",
       "       [ 1.,  4.,  5.,  5.,  3., nan, nan,  4.],\n",
       "       [ 2.,  2., nan, nan,  4.,  5.,  1., nan],\n",
       "       [nan, nan,  4.,  2.,  1., nan, nan,  5.],\n",
       "       [ 3.,  5.,  1., nan, nan, nan,  4.,  4.],\n",
       "       [ 2., nan,  2.,  4., nan,  1., nan,  2.],\n",
       "       [ 5.,  4., nan,  2., nan,  1.,  1.,  3.],\n",
       "       [nan, nan,  2., nan,  4., nan,  4.,  5.],\n",
       "       [nan,  1.,  2.,  3.,  4., nan,  5.,  5.],\n",
       "       [nan,  3., nan, nan,  5.,  3., nan,  2.],\n",
       "       [nan,  3.,  2.,  1.,  1., nan,  4., nan],\n",
       "       [ 1.,  5.,  1.,  2., nan,  4., nan,  4.],\n",
       "       [ 5., nan,  4., nan,  2.,  1.,  3.,  5.],\n",
       "       [nan,  3., nan,  2., nan,  4.,  1.,  4.],\n",
       "       [ 2.,  5.,  1.,  1.,  5.,  4., nan,  4.]])"
      ]
     },
     "execution_count": 61,
     "metadata": {},
     "output_type": "execute_result"
    }
   ],
   "source": [
    "train = data.iloc[:20,:].values\n",
    "train"
   ]
  },
  {
   "cell_type": "code",
   "execution_count": 62,
   "metadata": {
    "scrolled": true
   },
   "outputs": [
    {
     "data": {
      "text/plain": [
       "array([[ 4., nan,  5.,  3.,  2.,  3., nan,  4.],\n",
       "       [nan,  5.,  2.,  5.,  3., nan,  2., nan],\n",
       "       [ 2.,  1., nan, nan,  2.,  3.,  4.,  1.],\n",
       "       [ 3.,  5.,  1.,  1., nan,  1., nan,  3.],\n",
       "       [nan,  2.,  3.,  2.,  1., nan,  3., nan]])"
      ]
     },
     "execution_count": 62,
     "metadata": {},
     "output_type": "execute_result"
    }
   ],
   "source": [
    "test = data.iloc[21:,:].values\n",
    "test"
   ]
  },
  {
   "cell_type": "code",
   "execution_count": 25,
   "metadata": {},
   "outputs": [
    {
     "name": "stdout",
     "output_type": "stream",
     "text": [
      "(20, 8) (5, 8)\n"
     ]
    }
   ],
   "source": [
    "print(train.shape, test.shape)"
   ]
  },
  {
   "cell_type": "code",
   "execution_count": 26,
   "metadata": {},
   "outputs": [],
   "source": [
    "def correlation(x,y):\n",
    "    x2 = x - x.mean()\n",
    "    y2 = y - y.mean()\n",
    "    return np.sum(x2*y2)/np.sqrt(np.sum(x2**2))/np.sqrt(np.sum(y2**2))"
   ]
  },
  {
   "cell_type": "code",
   "execution_count": 63,
   "metadata": {},
   "outputs": [],
   "source": [
    "def predict(train, testrow, item, k):\n",
    "\n",
    "    train_valid = train[~np.isnan(train[:,item]),:].copy()  # get valid training data that item is not nan\n",
    "  \n",
    "    testrow = testrow.copy() \n",
    "    \n",
    "    test_excluded = np.delete(testrow, item)              # delete the item column that you will predict \n",
    "    train_excluded = np.delete(train_valid, item, axis=1)\n",
    "    \n",
    "    test_excluded = np.nan_to_num(test_excluded)         # change nan to zero\n",
    "    train_excluded = np.nan_to_num(train_excluded)\n",
    "    \n",
    "    corr = []\n",
    "       \n",
    "    for i in range(train_excluded.shape[0]):\n",
    "        corr.append(correlation(test_excluded,train_excluded[i])) # compute the value between train data and test data\n",
    "    corr = np.array(corr)\n",
    "    indx = np.argsort(corr)[-k:]\n",
    "\n",
    "    pred = np.sum(corr[indx]*train_valid[indx,item])/np.sum(corr[indx]) # fomular from lecture slide\n",
    "                        \n",
    "    return pred"
   ]
  },
  {
   "cell_type": "code",
   "execution_count": 81,
   "metadata": {},
   "outputs": [],
   "source": [
    "testrow1 = test[0].copy()\n",
    "item1 = 0"
   ]
  },
  {
   "cell_type": "code",
   "execution_count": 82,
   "metadata": {},
   "outputs": [
    {
     "data": {
      "text/plain": [
       "array([[ 2.,  4., nan,  3., nan, nan,  1.,  1.],\n",
       "       [ 3., nan,  1.,  2.,  2., nan, nan,  5.],\n",
       "       [ 2.,  4.,  3., nan, nan,  2.,  1., nan],\n",
       "       [ 5.,  4., nan,  3.,  1., nan,  3.,  1.],\n",
       "       [ 1.,  4.,  5.,  5.,  3., nan, nan,  4.],\n",
       "       [ 2.,  2., nan, nan,  4.,  5.,  1., nan],\n",
       "       [ 3.,  5.,  1., nan, nan, nan,  4.,  4.],\n",
       "       [ 2., nan,  2.,  4., nan,  1., nan,  2.],\n",
       "       [ 5.,  4., nan,  2., nan,  1.,  1.,  3.],\n",
       "       [ 1.,  5.,  1.,  2., nan,  4., nan,  4.],\n",
       "       [ 5., nan,  4., nan,  2.,  1.,  3.,  5.],\n",
       "       [ 2.,  5.,  1.,  1.,  5.,  4., nan,  4.]])"
      ]
     },
     "execution_count": 82,
     "metadata": {},
     "output_type": "execute_result"
    }
   ],
   "source": [
    "train_valid1 = train[~np.isnan(train[:,item1]),:].copy()\n",
    "train_valid1"
   ]
  },
  {
   "cell_type": "code",
   "execution_count": 83,
   "metadata": {},
   "outputs": [
    {
     "data": {
      "text/plain": [
       "array([ 4., nan,  5.,  3.,  2.,  3., nan,  4.])"
      ]
     },
     "execution_count": 83,
     "metadata": {},
     "output_type": "execute_result"
    }
   ],
   "source": [
    "testrow1"
   ]
  },
  {
   "cell_type": "code",
   "execution_count": 84,
   "metadata": {},
   "outputs": [
    {
     "data": {
      "text/plain": [
       "array([nan,  5.,  3.,  2.,  3., nan,  4.])"
      ]
     },
     "execution_count": 84,
     "metadata": {},
     "output_type": "execute_result"
    }
   ],
   "source": [
    "test_excluded1 = np.delete(testrow1,item1)\n",
    "test_excluded1"
   ]
  },
  {
   "cell_type": "code",
   "execution_count": 85,
   "metadata": {},
   "outputs": [],
   "source": [
    "train_valid1 = train[~np.isnan(train[:,item1]),:].copy()\n",
    "    \n",
    "testrow1 = testrow1.copy()\n",
    "test_excluded1 = np.delete(testrow1, item1)\n",
    "\n",
    "train_excluded1 = np.delete(train_valid1, item1, axis=1)\n",
    "\n",
    "test_excluded1 = np.nan_to_num(test_excluded1)\n",
    "train_excluded1 = np.nan_to_num(train_excluded1)"
   ]
  },
  {
   "cell_type": "code",
   "execution_count": 86,
   "metadata": {},
   "outputs": [
    {
     "data": {
      "text/plain": [
       "array([[4., 0., 3., 0., 0., 1., 1.],\n",
       "       [0., 1., 2., 2., 0., 0., 5.],\n",
       "       [4., 3., 0., 0., 2., 1., 0.],\n",
       "       [4., 0., 3., 1., 0., 3., 1.],\n",
       "       [4., 5., 5., 3., 0., 0., 4.],\n",
       "       [2., 0., 0., 4., 5., 1., 0.],\n",
       "       [5., 1., 0., 0., 0., 4., 4.],\n",
       "       [0., 2., 4., 0., 1., 0., 2.],\n",
       "       [4., 0., 2., 0., 1., 1., 3.],\n",
       "       [5., 1., 2., 0., 4., 0., 4.],\n",
       "       [0., 4., 0., 2., 1., 3., 5.],\n",
       "       [5., 1., 1., 5., 4., 0., 4.]])"
      ]
     },
     "execution_count": 86,
     "metadata": {},
     "output_type": "execute_result"
    }
   ],
   "source": [
    "train_excluded1"
   ]
  },
  {
   "cell_type": "code",
   "execution_count": 87,
   "metadata": {},
   "outputs": [
    {
     "data": {
      "text/plain": [
       "array([0., 5., 3., 2., 3., 0., 4.])"
      ]
     },
     "execution_count": 87,
     "metadata": {},
     "output_type": "execute_result"
    }
   ],
   "source": [
    "test_excluded1"
   ]
  },
  {
   "cell_type": "code",
   "execution_count": 89,
   "metadata": {},
   "outputs": [
    {
     "data": {
      "text/plain": [
       "2.7150994108051996"
      ]
     },
     "execution_count": 89,
     "metadata": {},
     "output_type": "execute_result"
    }
   ],
   "source": [
    "corr = [] # for Pearson Correlation Coefficient\n",
    "       \n",
    "for i in range(train_excluded1.shape[0]):\n",
    "    corr.append(correlation(test_excluded1,train_excluded1[i]))\n",
    "corr = np.array(corr)\n",
    "indx1 = np.argsort(corr)[-k:]\n",
    "indx1\n",
    "np.sum(corr[indx1]*train_valid1[indx1,item1])/np.sum(corr[indx1])"
   ]
  },
  {
   "cell_type": "markdown",
   "metadata": {},
   "source": [
    "### Part 1"
   ]
  },
  {
   "cell_type": "code",
   "execution_count": 90,
   "metadata": {},
   "outputs": [
    {
     "name": "stdout",
     "output_type": "stream",
     "text": [
      "MAE: 1.129545056919089\n"
     ]
    }
   ],
   "source": [
    "actual = []\n",
    "predicted = []\n",
    "k = 3\n",
    "for i in range(5):\n",
    "    items = np.where(~np.isnan(test[i]))[0] # it's not NaN,\n",
    "    for item in items:\n",
    "        actual.append(test[i][item])\n",
    "        predicted.append(predict(train, test[i], item, k))\n",
    "print('MAE:', np.mean(abs(np.array(actual) - np.array(predicted))))     "
   ]
  },
  {
   "cell_type": "markdown",
   "metadata": {},
   "source": [
    "### Part 2"
   ]
  },
  {
   "cell_type": "code",
   "execution_count": 91,
   "metadata": {},
   "outputs": [
    {
     "data": {
      "image/png": "[encoded data removed]",
      "text/plain": [
       "<Figure size 432x288 with 1 Axes>"
      ]
     },
     "metadata": {
      "needs_background": "light"
     },
     "output_type": "display_data"
    }
   ],
   "source": [
    "k_list = []\n",
    "mae_list = []\n",
    "for k in range(1, 21):\n",
    "    k_list.append(k)\n",
    "    actual = []\n",
    "    predicted = []\n",
    "    for i in range(5):\n",
    "        items = np.where(~np.isnan(test[i]))[0]\n",
    "        for item in items:\n",
    "            actual.append(test[i][item])\n",
    "            predicted.append(predict(train, test[i], item, k))\n",
    "    mae = np.mean(abs(np.array(actual) - np.array(predicted)))\n",
    "    mae_list.append(mae)\n",
    "    \n",
    "plt.plot(k_list, mae_list, 'bo-')\n",
    "plt.xlabel('K')\n",
    "plt.ylabel('MAE')\n",
    "plt.title('Best K: {}'.format(k_list[np.argmin(mae_list)]))\n",
    "plt.xticks(range(1,21));"
   ]
  },
  {
   "cell_type": "code",
   "execution_count": 92,
   "metadata": {},
   "outputs": [
    {
     "data": {
      "text/html": [
       "<div>\n",
       "<style scoped>\n",
       "    .dataframe tbody tr th:only-of-type {\n",
       "        vertical-align: middle;\n",
       "    }\n",
       "\n",
       "    .dataframe tbody tr th {\n",
       "        vertical-align: top;\n",
       "    }\n",
       "\n",
       "    .dataframe thead th {\n",
       "        text-align: right;\n",
       "    }\n",
       "</style>\n",
       "<table border=\"1\" class=\"dataframe\">\n",
       "  <thead>\n",
       "    <tr style=\"text-align: right;\">\n",
       "      <th></th>\n",
       "      <th>K</th>\n",
       "      <th>MAE</th>\n",
       "    </tr>\n",
       "  </thead>\n",
       "  <tbody>\n",
       "    <tr>\n",
       "      <th>0</th>\n",
       "      <td>1</td>\n",
       "      <td>1.642857</td>\n",
       "    </tr>\n",
       "    <tr>\n",
       "      <th>1</th>\n",
       "      <td>2</td>\n",
       "      <td>1.260965</td>\n",
       "    </tr>\n",
       "    <tr>\n",
       "      <th>2</th>\n",
       "      <td>3</td>\n",
       "      <td>1.129545</td>\n",
       "    </tr>\n",
       "    <tr>\n",
       "      <th>3</th>\n",
       "      <td>4</td>\n",
       "      <td>1.179924</td>\n",
       "    </tr>\n",
       "    <tr>\n",
       "      <th>4</th>\n",
       "      <td>5</td>\n",
       "      <td>1.209557</td>\n",
       "    </tr>\n",
       "    <tr>\n",
       "      <th>5</th>\n",
       "      <td>6</td>\n",
       "      <td>1.224161</td>\n",
       "    </tr>\n",
       "    <tr>\n",
       "      <th>6</th>\n",
       "      <td>7</td>\n",
       "      <td>1.303741</td>\n",
       "    </tr>\n",
       "    <tr>\n",
       "      <th>7</th>\n",
       "      <td>8</td>\n",
       "      <td>1.448248</td>\n",
       "    </tr>\n",
       "    <tr>\n",
       "      <th>8</th>\n",
       "      <td>9</td>\n",
       "      <td>2.893274</td>\n",
       "    </tr>\n",
       "    <tr>\n",
       "      <th>9</th>\n",
       "      <td>10</td>\n",
       "      <td>2.018892</td>\n",
       "    </tr>\n",
       "    <tr>\n",
       "      <th>10</th>\n",
       "      <td>11</td>\n",
       "      <td>3.435187</td>\n",
       "    </tr>\n",
       "    <tr>\n",
       "      <th>11</th>\n",
       "      <td>12</td>\n",
       "      <td>5.449341</td>\n",
       "    </tr>\n",
       "    <tr>\n",
       "      <th>12</th>\n",
       "      <td>13</td>\n",
       "      <td>4.310365</td>\n",
       "    </tr>\n",
       "    <tr>\n",
       "      <th>13</th>\n",
       "      <td>14</td>\n",
       "      <td>4.720171</td>\n",
       "    </tr>\n",
       "    <tr>\n",
       "      <th>14</th>\n",
       "      <td>15</td>\n",
       "      <td>3.982425</td>\n",
       "    </tr>\n",
       "    <tr>\n",
       "      <th>15</th>\n",
       "      <td>16</td>\n",
       "      <td>3.940728</td>\n",
       "    </tr>\n",
       "    <tr>\n",
       "      <th>16</th>\n",
       "      <td>17</td>\n",
       "      <td>3.940728</td>\n",
       "    </tr>\n",
       "    <tr>\n",
       "      <th>17</th>\n",
       "      <td>18</td>\n",
       "      <td>3.940728</td>\n",
       "    </tr>\n",
       "    <tr>\n",
       "      <th>18</th>\n",
       "      <td>19</td>\n",
       "      <td>3.940728</td>\n",
       "    </tr>\n",
       "    <tr>\n",
       "      <th>19</th>\n",
       "      <td>20</td>\n",
       "      <td>3.940728</td>\n",
       "    </tr>\n",
       "  </tbody>\n",
       "</table>\n",
       "</div>"
      ],
      "text/plain": [
       "     K       MAE\n",
       "0    1  1.642857\n",
       "1    2  1.260965\n",
       "2    3  1.129545\n",
       "3    4  1.179924\n",
       "4    5  1.209557\n",
       "5    6  1.224161\n",
       "6    7  1.303741\n",
       "7    8  1.448248\n",
       "8    9  2.893274\n",
       "9   10  2.018892\n",
       "10  11  3.435187\n",
       "11  12  5.449341\n",
       "12  13  4.310365\n",
       "13  14  4.720171\n",
       "14  15  3.982425\n",
       "15  16  3.940728\n",
       "16  17  3.940728\n",
       "17  18  3.940728\n",
       "18  19  3.940728\n",
       "19  20  3.940728"
      ]
     },
     "execution_count": 92,
     "metadata": {},
     "output_type": "execute_result"
    }
   ],
   "source": [
    "pd.DataFrame({'K': k_list, 'MAE': mae_list})"
   ]
  },
  {
   "cell_type": "markdown",
   "metadata": {},
   "source": [
    "### Part 3"
   ]
  },
  {
   "cell_type": "code",
   "execution_count": 93,
   "metadata": {},
   "outputs": [
    {
     "name": "stdout",
     "output_type": "stream",
     "text": [
      "User   Book               Score\n",
      "----------------------------------\n",
      "NU1     THE DA VINCI CODE  4.3017\n",
      "NU1     RUNNY BABBIT       3.4151\n",
      "NU2     TRUE BELIEVER      2.8807\n",
      "NU2     THE KITE RUNNER    2.6585\n",
      "NU2     HARRY POTTER       3.1468\n"
     ]
    }
   ],
   "source": [
    "k = 3\n",
    "predicted = []\n",
    "print('{0:<5}  {1:<18} {2:4}'.format('User', 'Book', 'Score'))\n",
    "print('-'*34)\n",
    "for i in range(2):\n",
    "    items = np.where(np.isnan(test[i]))[0]\n",
    "    for item in items:\n",
    "        print('NU{0:<5} {1:<18} {2:.4f}'.format(i+1, cols[item], predict(train, test[i], item, k)))"
   ]
  },
  {
   "cell_type": "markdown",
   "metadata": {},
   "source": [
    "### Part 4"
   ]
  },
  {
   "cell_type": "code",
   "execution_count": 94,
   "metadata": {},
   "outputs": [],
   "source": [
    "def recommender(train, user, k, m):\n",
    "    items = np.where(np.isnan(train[user]))[0] \n",
    "    train_aug = np.delete(train, user, axis=0)\n",
    "    scores = [] \n",
    "    for item in items:\n",
    "        scores.append((predict(train_aug, train[user], item, k), cols[item]))\n",
    "        \n",
    "    scores = sorted(scores, reverse=True)\n",
    "    return scores[:m]"
   ]
  },
  {
   "cell_type": "code",
   "execution_count": 95,
   "metadata": {},
   "outputs": [
    {
     "data": {
      "text/plain": [
       "[(3.198936550823134, 'HARRY POTTER'), (2.5367845523049892, 'TRUE BELIEVER')]"
      ]
     },
     "execution_count": 95,
     "metadata": {},
     "output_type": "execute_result"
    }
   ],
   "source": [
    "recommender(train, 1, 4, 2)"
   ]
  },
  {
   "cell_type": "code",
   "execution_count": 96,
   "metadata": {},
   "outputs": [
    {
     "name": "stdout",
     "output_type": "stream",
     "text": [
      "User   Book               Score\n",
      "----------------------------------\n",
      "U2     HARRY POTTER       3.1989\n",
      "U2     TRUE BELIEVER      2.5368\n",
      "U2     THE WORLD IS FLAT  1.8271\n",
      "U5     HARRY POTTER       3.7899\n",
      "U5     THE TAKING         3.2204\n",
      "U5     MY LIFE SO FAR     2.1419\n",
      "U13    TRUE BELIEVER      4.0202\n",
      "U13    MY LIFE SO FAR     2.7266\n",
      "U13    THE DA VINCI CODE  2.6847\n",
      "U20    RUNNY BABBIT       1.4585\n"
     ]
    }
   ],
   "source": [
    "k = 4\n",
    "m = 3\n",
    "print('{0:<5}  {1:<18} {2:4}'.format('User', 'Book', 'Score'))\n",
    "print('-'*34)\n",
    "for i in [1, 4, 12, 19]:\n",
    "    scores = recommender(train, i, k, m)\n",
    "    for j in range(len(scores)):\n",
    "        print('U{0:<5} {1:<18} {2:.4f}'.format(i+1, scores[j][1], scores[j][0]))"
   ]
  },
  {
   "cell_type": "code",
   "execution_count": null,
   "metadata": {},
   "outputs": [],
   "source": []
  }
 ],
 "metadata": {
  "kernelspec": {
   "display_name": "Python 3",
   "language": "python",
   "name": "python3"
  },
  "language_info": {
   "codemirror_mode": {
    "name": "ipython",
    "version": 3
   },
   "file_extension": ".py",
   "mimetype": "text/x-python",
   "name": "python",
   "nbconvert_exporter": "python",
   "pygments_lexer": "ipython3",
   "version": "3.7.6"
  }
 },
 "nbformat": 4,
 "nbformat_minor": 4
}
